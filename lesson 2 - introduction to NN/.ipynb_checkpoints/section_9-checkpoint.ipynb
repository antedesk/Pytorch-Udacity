{
 "cells": [
  {
   "cell_type": "code",
   "execution_count": 48,
   "metadata": {},
   "outputs": [],
   "source": [
    "x1 = 1\n",
    "x2 = 1\n",
    "#learning_rate\n",
    "lr = 0.1"
   ]
  },
  {
   "cell_type": "code",
   "execution_count": 55,
   "metadata": {},
   "outputs": [
    {
     "name": "stdout",
     "output_type": "stream",
     "text": [
      "0.1\n",
      "0.1\n",
      "0.1\n"
     ]
    }
   ],
   "source": [
    "w1 = 3\n",
    "w2 = 4\n",
    "b = -10\n",
    "\n",
    "x1_lr = x1 * lr\n",
    "x2_lr = x2 * lr\n",
    "b_lr = 1 * lr\n",
    "print(x1_lr)\n",
    "print(x2_lr)\n",
    "print(b_lr)"
   ]
  },
  {
   "cell_type": "code",
   "execution_count": 56,
   "metadata": {},
   "outputs": [
    {
     "name": "stdout",
     "output_type": "stream",
     "text": [
      "3.1\n",
      "4.1\n",
      "10.1\n",
      "3.2\n",
      "4.2\n",
      "10.2\n",
      "3.3\n",
      "4.3\n",
      "10.3\n",
      "3.4\n",
      "4.4\n",
      "10.4\n",
      "3.5\n",
      "4.5\n",
      "10.5\n",
      "3.6\n",
      "4.6\n",
      "10.6\n",
      "3.7\n",
      "4.7\n",
      "10.7\n",
      "3.8\n",
      "4.8\n",
      "10.8\n",
      "3.9\n",
      "4.9\n",
      "10.9\n",
      "4.0\n",
      "5.0\n",
      "11.0\n",
      "4.1\n",
      "5.1\n",
      "11.1\n",
      "4.2\n",
      "5.2\n",
      "11.2\n",
      "4.3\n",
      "5.3\n",
      "11.3\n",
      "4.4\n",
      "5.4\n",
      "11.4\n",
      "4.5\n",
      "5.5\n",
      "11.5\n",
      "4.6\n",
      "5.6\n",
      "11.6\n",
      "4.7\n",
      "5.7\n",
      "11.7\n",
      "4.8\n",
      "5.8\n",
      "11.8\n",
      "4.9\n",
      "5.9\n",
      "11.9\n",
      "5.0\n",
      "6.0\n",
      "12.0\n",
      "5.1\n",
      "6.1\n",
      "12.1\n",
      "5.2\n",
      "6.2\n",
      "12.2\n",
      "5.300000000000001\n",
      "6.300000000000001\n",
      "12.3\n",
      "5.4\n",
      "6.4\n",
      "12.4\n",
      "5.5\n",
      "6.5\n",
      "12.5\n",
      "5.6\n",
      "6.6\n",
      "12.6\n",
      "5.7\n",
      "6.7\n",
      "12.7\n",
      "5.800000000000001\n",
      "6.800000000000001\n",
      "12.8\n",
      "5.9\n",
      "6.9\n",
      "12.9\n",
      "6.0\n",
      "7.0\n",
      "13.0\n",
      "6.1\n",
      "7.1\n",
      "13.1\n",
      "now the point \\(1,1\\) is in che Pos area\n",
      "6.1\n",
      "7.1\n",
      "13.1\n",
      "0.09999999999999964\n",
      "31\n"
     ]
    }
   ],
   "source": [
    "n = 1\n",
    "cond = True\n",
    "while(cond):\n",
    "    W1 = w1 + (x1_lr*n) \n",
    "    W2 = w2+ (x1_lr*n)\n",
    "    B = b + (b_lr*n)\n",
    "    print(W1)\n",
    "    print(W2)\n",
    "    print(B)\n",
    "    eq = W1*x1 + W2*x2 + B\n",
    "    if(eq > 0):\n",
    "        print('now the point \\(1,1\\) is in che Pos area')\n",
    "        print(W1)\n",
    "        print(W2)\n",
    "        print(B)\n",
    "        print(eq)\n",
    "        print(n)\n",
    "        cond = False\n",
    "    n = n +1"
   ]
  },
  {
   "cell_type": "code",
   "execution_count": 51,
   "metadata": {},
   "outputs": [
    {
     "name": "stdout",
     "output_type": "stream",
     "text": [
      "4.1\n",
      "5.1\n",
      "-8.9\n",
      "now the point \\(1,1\\) is in che Pos area\n"
     ]
    }
   ],
   "source": [
    "W1 = w1 + (x1_lr*11) \n",
    "W2 = w2+ (x1_lr*11)\n",
    "B = b + (b_lr*11)\n",
    "print(W1)\n",
    "print(W2)\n",
    "print(B)\n",
    "eq = W1*x1 + W2*x2 + B\n",
    "if(eq > 0):\n",
    "    print('now the point \\(1,1\\) is in che Pos area')"
   ]
  },
  {
   "cell_type": "code",
   "execution_count": 52,
   "metadata": {},
   "outputs": [
    {
     "data": {
      "text/plain": [
       "True"
      ]
     },
     "execution_count": 52,
     "metadata": {},
     "output_type": "execute_result"
    }
   ],
   "source": [
    "w1+w2+b+0.1*3*10 > 0"
   ]
  },
  {
   "cell_type": "code",
   "execution_count": null,
   "metadata": {},
   "outputs": [],
   "source": []
  }
 ],
 "metadata": {
  "kernelspec": {
   "display_name": "Python 3",
   "language": "python",
   "name": "python3"
  },
  "language_info": {
   "codemirror_mode": {
    "name": "ipython",
    "version": 3
   },
   "file_extension": ".py",
   "mimetype": "text/x-python",
   "name": "python",
   "nbconvert_exporter": "python",
   "pygments_lexer": "ipython3",
   "version": "3.7.0"
  }
 },
 "nbformat": 4,
 "nbformat_minor": 2
}
