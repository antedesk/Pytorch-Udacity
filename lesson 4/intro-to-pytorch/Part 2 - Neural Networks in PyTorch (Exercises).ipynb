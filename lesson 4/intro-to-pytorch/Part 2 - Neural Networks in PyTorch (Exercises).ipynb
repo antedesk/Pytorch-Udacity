{
 "cells": [
  {
   "cell_type": "markdown",
   "metadata": {},
   "source": [
    "# Neural networks with PyTorch\n",
    "\n",
    "Deep learning networks tend to be massive with dozens or hundreds of layers, that's where the term \"deep\" comes from. You can build one of these deep networks using only weight matrices as we did in the previous notebook, but in general it's very cumbersome and difficult to implement. PyTorch has a nice module `nn` that provides a nice way to efficiently build large neural networks."
   ]
  },
  {
   "cell_type": "code",
   "execution_count": 1,
   "metadata": {
    "collapsed": true
   },
   "outputs": [],
   "source": [
    "# Import necessary packages\n",
    "\n",
    "%matplotlib inline\n",
    "%config InlineBackend.figure_format = 'retina'\n",
    "\n",
    "import numpy as np\n",
    "import torch\n",
    "\n",
    "import helper\n",
    "\n",
    "import matplotlib.pyplot as plt"
   ]
  },
  {
   "cell_type": "markdown",
   "metadata": {},
   "source": [
    "\n",
    "Now we're going to build a larger network that can solve a (formerly) difficult problem, identifying text in an image. Here we'll use the MNIST dataset which consists of greyscale handwritten digits. Each image is 28x28 pixels, you can see a sample below\n",
    "\n",
    "<img src='assets/mnist.png'>\n",
    "\n",
    "Our goal is to build a neural network that can take one of these images and predict the digit in the image.\n",
    "\n",
    "First up, we need to get our dataset. This is provided through the `torchvision` package. The code below will download the MNIST dataset, then create training and test datasets for us. Don't worry too much about the details here, you'll learn more about this later."
   ]
  },
  {
   "cell_type": "code",
   "execution_count": 2,
   "metadata": {
    "collapsed": true
   },
   "outputs": [
    {
     "name": "stdout",
     "output_type": "stream",
     "text": [
      "Downloading http://yann.lecun.com/exdb/mnist/train-images-idx3-ubyte.gz\n",
      "Downloading http://yann.lecun.com/exdb/mnist/train-labels-idx1-ubyte.gz\n",
      "Downloading http://yann.lecun.com/exdb/mnist/t10k-images-idx3-ubyte.gz\n",
      "Downloading http://yann.lecun.com/exdb/mnist/t10k-labels-idx1-ubyte.gz\n",
      "Processing...\n",
      "Done!\n"
     ]
    }
   ],
   "source": [
    "### Run this cell\n",
    "\n",
    "from torchvision import datasets, transforms\n",
    "\n",
    "# Define a transform to normalize the data\n",
    "transform = transforms.Compose([transforms.ToTensor(),\n",
    "                              transforms.Normalize((0.5,), (0.5,)),\n",
    "                              ])\n",
    "\n",
    "# Download and load the training data\n",
    "trainset = datasets.MNIST('~/.pytorch/MNIST_data/', download=True, train=True, transform=transform)\n",
    "trainloader = torch.utils.data.DataLoader(trainset, batch_size=64, shuffle=True)"
   ]
  },
  {
   "cell_type": "markdown",
   "metadata": {},
   "source": [
    "We have the training data loaded into `trainloader` and we make that an iterator with `iter(trainloader)`. Later, we'll use this to loop through the dataset for training, like\n",
    "\n",
    "```python\n",
    "for image, label in trainloader:\n",
    "    ## do things with images and labels\n",
    "```\n",
    "\n",
    "You'll notice I created the `trainloader` with a batch size of 64, and `shuffle=True`. The batch size is the number of images we get in one iteration from the data loader and pass through our network, often called a *batch*. And `shuffle=True` tells it to shuffle the dataset every time we start going through the data loader again. But here I'm just grabbing the first batch so we can check out the data. We can see below that `images` is just a tensor with size `(64, 1, 28, 28)`. So, 64 images per batch, 1 color channel, and 28x28 images."
   ]
  },
  {
   "cell_type": "code",
   "execution_count": 3,
   "metadata": {
    "collapsed": true
   },
   "outputs": [
    {
     "name": "stdout",
     "output_type": "stream",
     "text": [
      "<class 'torch.Tensor'>\n",
      "torch.Size([64, 1, 28, 28])\n",
      "torch.Size([64])\n"
     ]
    }
   ],
   "source": [
    "dataiter = iter(trainloader)\n",
    "images, labels = dataiter.next()\n",
    "print(type(images))\n",
    "print(images.shape)\n",
    "print(labels.shape)"
   ]
  },
  {
   "cell_type": "markdown",
   "metadata": {},
   "source": [
    "This is what one of the images looks like. "
   ]
  },
  {
   "cell_type": "code",
   "execution_count": 5,
   "metadata": {
    "collapsed": true
   },
   "outputs": [
    {
     "data": {
      "image/png": "[encoded data removed]",
      "text/plain": [
       "<Figure size 432x288 with 1 Axes>"
      ]
     },
     "metadata": {
      "image/png": {
       "height": 250,
       "width": 253
      },
      "needs_background": "light"
     },
     "output_type": "display_data"
    }
   ],
   "source": [
    "plt.imshow(images[1].numpy().squeeze(), cmap='Greys_r');"
   ]
  },
  {
   "cell_type": "markdown",
   "metadata": {},
   "source": [
    "First, let's try to build a simple network for this dataset using weight matrices and matrix multiplications. Then, we'll see how to do it using PyTorch's `nn` module which provides a much more convenient and powerful method for defining network architectures.\n",
    "\n",
    "The networks you've seen so far are called *fully-connected* or *dense* networks. Each unit in one layer is connected to each unit in the next layer. In fully-connected networks, the input to each layer must be a one-dimensional vector (which can be stacked into a 2D tensor as a batch of multiple examples). However, our images are 28x28 2D tensors, so we need to convert them into 1D vectors. Thinking about sizes, we need to convert the batch of images with shape `(64, 1, 28, 28)` to a have a shape of `(64, 784)`, 784 is 28 times 28. This is typically called *flattening*, we flattened the 2D images into 1D vectors.\n",
    "\n",
    "Previously you built a network with one output unit. Here we need 10 output units, one for each digit. We want our network to predict the digit shown in an image, so what we'll do is calculate probabilities that the image is of any one digit or class. This ends up being a discrete probability distribution over the classes (digits) that tells us the most likely class for the image. That means we need 10 output units for the 10 classes (digits). We'll see how to convert the network output into a probability distribution next.\n",
    "\n",
    "> **Exercise:** Flatten the batch of images `images`. Then build a multi-layer network with 784 input units, 256 hidden units, and 10 output units using random tensors for the weights and biases. For now, use a sigmoid activation for the hidden layer. Leave the output layer without an activation, we'll add one that gives us a probability distribution next."
   ]
  },
  {
   "cell_type": "code",
   "execution_count": 24,
   "metadata": {
    "collapsed": true
   },
   "outputs": [
    {
     "name": "stdout",
     "output_type": "stream",
     "text": [
      "Cureent tensor shapes: 64 784\n",
      "tensor([[ 15.5581,  -9.2520,   0.2344, -16.5130,   9.5468, -23.5900,  -2.0728,\n",
      "         -14.3286,   8.8415, -18.4786],\n",
      "        [ 14.5928,   0.4297,   0.2497,  -8.4547,  11.7854, -18.2783,  -3.5013,\n",
      "          -0.4143,  12.2103,  -1.0352],\n",
      "        [ 18.6137,  -2.5019,  -2.8627,  -9.7121,   7.8697, -20.1618,  -0.9777,\n",
      "          -5.9853,  13.7769, -12.1147],\n",
      "        [  7.9839,  -0.6501,  -6.5999, -12.3794,   7.9744, -12.9642,  -5.4907,\n",
      "          -8.1676,   8.6786,  -8.6000],\n",
      "        [  9.7954,  -2.6508,  -7.7159,  -4.3735,   8.5815, -22.7098,  -3.1061,\n",
      "         -12.8990,  15.2218,  -5.2196],\n",
      "        [ 15.6955, -13.0457,  -0.7860,  -3.3851,  12.6508, -10.8807,   4.6968,\n",
      "          -5.0300,   7.2202, -10.6980],\n",
      "        [ 16.8429,  -8.9672, -12.9713,  -8.5810,  12.9580, -12.1819, -10.7298,\n",
      "          -9.3098,   8.1827,   5.3743],\n",
      "        [ 17.9723,  -2.8699, -12.3204, -13.6705,  16.2063,  -5.8961,  -6.9508,\n",
      "         -17.4216,   7.8835,   2.7987],\n",
      "        [ 22.8502,  -9.9590,   0.9273, -12.1095,   9.2951, -20.2960,  -7.1702,\n",
      "          -9.0519,  13.2645,  -7.9715],\n",
      "        [ 16.4788, -18.0639,  -3.3658,  -7.9978,   2.9489, -12.5904,   6.0070,\n",
      "          -7.2457,  11.7032,  -2.2233],\n",
      "        [ 13.7697, -16.9611,  -3.3770,  -2.7092,   7.7387, -23.6791,  -3.0969,\n",
      "           1.9544,  15.5446, -11.7189],\n",
      "        [  9.6855, -11.6835,   6.7390,  -2.5265,  16.7907, -18.9103,  -1.1012,\n",
      "         -11.0624,   2.5022,  -6.1129],\n",
      "        [ 19.1077, -11.9402,  -1.7383, -12.2005,  10.2310, -21.4127,   1.9485,\n",
      "          -2.6485,  14.5038,  -6.1641],\n",
      "        [ 16.5878,   2.7343,  -3.6984, -12.6168,   6.5888, -13.7818,  -4.5890,\n",
      "          -7.6233,   6.2160,  -6.6119],\n",
      "        [ 17.2915, -16.5282,  -6.3738,  -6.1239,   7.5825, -12.5083,   2.2728,\n",
      "         -17.2706,   7.4777,  -3.6476],\n",
      "        [ 19.8229, -18.1685,  -3.1711, -10.6138,   8.3715, -18.8376,   0.0390,\n",
      "         -14.2574,   3.0305,  -3.3848],\n",
      "        [  8.4690, -17.0640, -10.9458, -10.0036,  17.1111, -16.9068,  -3.1538,\n",
      "          -8.4952,   7.4831, -16.2763],\n",
      "        [ 13.9854,  -8.5919,  -4.1802, -11.1931,  13.2844, -24.8984,  -4.3176,\n",
      "          -1.2773,   9.6494,  -7.9782],\n",
      "        [  6.4748, -14.0215, -12.7851,  -8.8254,   4.1379, -22.3734,  -1.7077,\n",
      "          -4.7667,   4.9671,  -6.3729],\n",
      "        [ 20.7634, -16.1154,  -4.0494,  -6.8833,  12.3867, -13.6639,   2.3914,\n",
      "         -10.3768,   8.3932,   1.1587],\n",
      "        [ 12.9208, -15.4755,  -6.1084,  -3.7765,   8.9101, -14.1950,  -3.0184,\n",
      "         -23.0831,   9.1637, -10.5816],\n",
      "        [ 18.2985, -13.4496,  -5.4082,   6.5232,  11.7887, -15.4741,  -5.9908,\n",
      "          -0.6891,   4.6113,  -4.7556],\n",
      "        [  7.4413, -14.3549,  -9.6268, -12.1819,   7.6661, -17.4605,   3.4111,\n",
      "         -10.0402,  14.8264, -13.4744],\n",
      "        [ 21.2452, -13.7197,   0.9157,  -5.9637,  20.3741, -20.9285,  -8.1348,\n",
      "          -8.7482,   6.6116,  -1.1946],\n",
      "        [ 18.1669, -16.3006,  -1.9850,   2.1644,  14.6080, -10.1657,   0.3373,\n",
      "          -5.1949,  13.5022,  -0.2680],\n",
      "        [ 15.8223, -19.4385, -16.6252,  -4.6479,  16.0127, -18.9055,   2.4868,\n",
      "         -18.2596,  15.6515,   6.1024],\n",
      "        [ 12.4072, -12.1366,   2.9740,  -9.1298,  10.9596, -12.0704,  -3.1478,\n",
      "         -10.1563,  11.4205,  -3.8472],\n",
      "        [ 13.2487, -12.9523,   4.1208,  -0.2992,   2.2109, -19.5489,  -6.6663,\n",
      "         -14.6248,  11.1272, -11.2742],\n",
      "        [ 24.7925, -12.4890, -12.2365,  -0.2296,   6.8659, -23.0155,  -2.7463,\n",
      "          -7.9549,  18.9966, -12.7716],\n",
      "        [ 16.2208,   0.3127,  -1.9981,  -8.6196,   6.7114, -12.7200,  -3.9048,\n",
      "         -16.1355,   4.9091,  -7.5521],\n",
      "        [ 11.4625,  -9.5710,  -4.5546,  -8.3936,  17.0969, -19.9599, -11.2170,\n",
      "          -3.9261,   5.9784, -10.0145],\n",
      "        [ 19.0341, -11.2104,  -1.9690,  -1.1593,  14.3157, -20.0666,   4.7033,\n",
      "          -8.9030,   5.1992,  -6.3722],\n",
      "        [  9.5207,  -7.9555,   0.9781,  -6.9871,   8.5009, -17.2923,  -5.6493,\n",
      "          -2.4608,   6.4993, -19.6662],\n",
      "        [ 20.1447,  -6.9858,   4.0283, -14.6164,  16.0124, -16.5841, -10.5329,\n",
      "          -1.8013,   9.1809,  -3.2602],\n",
      "        [ 11.3227, -15.6793,  -7.2427,  -5.7065,  12.3249, -21.9181,  -5.6048,\n",
      "         -13.1798,  13.1231, -15.3436],\n",
      "        [ 16.5869, -12.9315,  -7.0958,  -8.8468,  15.0667, -26.4951,  -4.6964,\n",
      "         -14.8964,   8.2239, -11.6982],\n",
      "        [ 25.3637, -15.6131,  -1.9847, -13.4412,  16.1223, -18.2749,   2.9848,\n",
      "           0.7357,  16.1955, -13.1173],\n",
      "        [ 14.7201, -12.4521,   2.6762,  -8.9120,   9.8657, -21.5893,  -0.4879,\n",
      "          -8.7424,  16.7478, -11.7675],\n",
      "        [ 13.4763,   1.7158,  -0.0931, -13.3723,  10.6891, -16.2721,  -4.7712,\n",
      "         -12.8873,   7.1406,  -8.0269],\n",
      "        [ 10.3279, -14.5412,  -7.9627, -10.9301,  11.1273, -21.3736,   3.9974,\n",
      "          -4.2949,   9.6368,  -3.5595],\n",
      "        [  9.3489,   2.7916,   5.1047, -14.7006,  14.6100, -18.2240,   0.3084,\n",
      "         -10.3047,   5.0883, -14.9958],\n",
      "        [  4.7103,   1.5510,  -0.4605, -14.7276,   6.3340, -12.4463,  -3.9196,\n",
      "          -6.4579,   5.3518, -11.9297],\n",
      "        [ 18.4024,  -9.5669,  -0.2707, -10.6288,   3.3446, -21.7590,  -1.8648,\n",
      "         -15.2416,   9.0081, -10.8489],\n",
      "        [ 22.9207, -13.6881,  -2.4134,  -5.0458,  12.4806, -14.2741,  -5.7301,\n",
      "         -11.1678,   4.2647,  -7.8025],\n",
      "        [ 13.2171,  -5.6428,  -4.4158,  -2.4060,  16.1247, -13.9688, -10.8873,\n",
      "         -25.0326,  -1.8496,   2.8237],\n",
      "        [ 10.7430,  -2.1376,  -8.0221,  -4.4290,  12.8067, -18.8475,   4.9981,\n",
      "         -17.2193,   7.2616, -20.3887],\n",
      "        [ 10.8364,  -7.1948,  -1.9728,  -8.2662,  12.8092, -19.8962, -10.0789,\n",
      "          -6.1171,   0.8111,  -0.4385],\n",
      "        [ 24.2385, -12.8395, -10.1203,  -8.6544,   5.8126, -24.0991,   6.0580,\n",
      "         -13.9555,  11.6992, -10.9213],\n",
      "        [ 10.9908,   6.5690,  -6.1774,  -9.9197,   5.4831, -13.7303,  -1.3638,\n",
      "         -16.6423,   0.5861, -15.6914],\n",
      "        [ 14.6333, -10.0091, -10.8639,   2.4875,   8.9717, -17.1945,   0.6713,\n",
      "          -6.5985,   7.0206,  -8.8552],\n",
      "        [ 19.8669,  -2.6364,   0.0382, -15.2551,   4.3271, -23.1314,  -3.8861,\n",
      "          -7.8291,  16.4731, -14.8508],\n",
      "        [  5.5096,  -7.4842,  -5.1235,   5.5710,  14.7274, -12.2966,  -0.6295,\n",
      "          -4.5999,   4.3454,   2.3474],\n",
      "        [  8.1213,  -5.4017,  -7.4578, -11.0624,   4.7243, -18.7231,  -4.3282,\n",
      "          -3.7943,   7.2921,  -9.7726],\n",
      "        [ 21.0614, -13.6338,   1.0311, -14.4670,  13.3201, -15.4845,  -9.3693,\n",
      "          -6.7854,  -1.1565,  -4.6482],\n",
      "        [ 27.7616,  -7.0804,   7.5805,  -9.9974,  12.2485, -26.8892, -11.8998,\n",
      "         -13.5296,  14.9937,  -1.7755],\n",
      "        [ 14.5171,  -3.6503,  -7.7514, -11.2341,   6.7918, -18.5114,  -5.4429,\n",
      "         -21.9272,   9.0848,  -3.8325],\n",
      "        [ 21.8316,  -5.6705,  -8.4975, -14.8364,   9.3950, -27.7482,  -5.6164,\n",
      "         -18.2646,   6.5355,   2.5923],\n",
      "        [ 11.2654,  -9.8483,  -2.9229, -10.6511,   8.3148, -23.0861,  -7.5999,\n",
      "          -5.9320,   9.0917, -18.1371],\n",
      "        [ 28.6933, -12.0927,   3.3734,  -2.3309,  17.0916, -15.5261, -10.1205,\n",
      "         -10.6465,  14.0610,  -0.8560],\n",
      "        [ 12.8108,  -9.4334,  -4.6737, -11.9282,  13.2273, -15.0132, -11.6287,\n",
      "         -20.9813,   2.9945,  -3.7730],\n",
      "        [ 16.8422, -11.4516,  -8.1274, -15.1753,  17.5172, -20.6202,  -3.5101,\n",
      "           6.4706,  -3.7016, -13.3148],\n",
      "        [ 26.5031, -19.8413,  -8.6942,   2.6032,  15.0407, -18.9452,   4.8492,\n",
      "         -12.4317,  13.6631,   1.4192],\n",
      "        [ 22.5662, -10.4574,   8.8961,  -7.1234,  11.5640, -15.9342,   0.8408,\n",
      "         -11.0273,  15.9200,  -2.2950],\n",
      "        [ 24.3636, -15.0786,  -2.8582, -10.0157,  18.8913, -11.6493,   4.1730,\n",
      "         -20.4051,   6.8913,  -0.4202]])\n"
     ]
    }
   ],
   "source": [
    "## Your solution\n",
    "def activation(x):\n",
    "    return 1/(1+torch.exp(-x))\n",
    "#reshape the images size from 2D matrix to 1D vector. -1 makes the trick\n",
    "inputs = images.view(images.shape[0],-1)\n",
    "print(\"Cureent tensor shapes:\",inputs.shape[0],inputs.shape[1])\n",
    "\n",
    "n_inputs = 784\n",
    "n_hidden_unit = 256\n",
    "n_output = 10\n",
    "\n",
    "w1 = torch.randn(n_inputs,n_hidden_unit)\n",
    "w2 = torch.randn(n_hidden_unit, n_output)\n",
    "\n",
    "b1 = torch.randn(n_hidden_unit)\n",
    "b2 = torch.randn(n_output)\n",
    "\n",
    "#computing h hidden units\n",
    "h = activation(torch.mm(inputs, w1)+b1)\n",
    "#computing the out\n",
    "out = torch.mm(h,w2)+b2\n",
    "\n",
    "out.shape\n",
    "print(out)"
   ]
  },
  {
   "cell_type": "markdown",
   "metadata": {},
   "source": [
    "Now we have 10 outputs for our network. We want to pass in an image to our network and get out a probability distribution over the classes that tells us the likely class(es) the image belongs to. Something that looks like this:\n",
    "<img src='assets/image_distribution.png' width=500px>\n",
    "\n",
    "Here we see that the probability for each class is roughly the same. This is representing an untrained network, it hasn't seen any data yet so it just returns a uniform distribution with equal probabilities for each class.\n",
    "\n",
    "To calculate this probability distribution, we often use the [**softmax** function](https://en.wikipedia.org/wiki/Softmax_function). Mathematically this looks like\n",
    "\n",
    "$$\n",
    "\\Large \\sigma(x_i) = \\cfrac{e^{x_i}}{\\sum_k^K{e^{x_k}}}\n",
    "$$\n",
    "\n",
    "What this does is squish each input $x_i$ between 0 and 1 and normalizes the values to give you a proper probability distribution where the probabilites sum up to one.\n",
    "\n",
    "> **Exercise:** Implement a function `softmax` that performs the softmax calculation and returns probability distributions for each example in the batch. Note that you'll need to pay attention to the shapes when doing this. If you have a tensor `a` with shape `(64, 10)` and a tensor `b` with shape `(64,)`, doing `a/b` will give you an error because PyTorch will try to do the division across the columns (called broadcasting) but you'll get a size mismatch. The way to think about this is for each of the 64 examples, you only want to divide by one value, the sum in the denominator. So you need `b` to have a shape of `(64, 1)`. This way PyTorch will divide the 10 values in each row of `a` by the one value in each row of `b`. Pay attention to how you take the sum as well. You'll need to define the `dim` keyword in `torch.sum`. Setting `dim=0` takes the sum across the rows while `dim=1` takes the sum across the columns."
   ]
  },
  {
   "cell_type": "code",
   "execution_count": 29,
   "metadata": {
    "collapsed": true
   },
   "outputs": [
    {
     "name": "stdout",
     "output_type": "stream",
     "text": [
      "torch.Size([64, 10])\n",
      "torch.Size([64])\n",
      "torch.Size([64, 1])\n",
      "torch.Size([64, 10])\n",
      "torch.Size([64, 10])\n",
      "tensor([1.0000, 1.0000, 1.0000, 1.0000, 1.0000, 1.0000, 1.0000, 1.0000, 1.0000,\n",
      "        1.0000, 1.0000, 1.0000, 1.0000, 1.0000, 1.0000, 1.0000, 1.0000, 1.0000,\n",
      "        1.0000, 1.0000, 1.0000, 1.0000, 1.0000, 1.0000, 1.0000, 1.0000, 1.0000,\n",
      "        1.0000, 1.0000, 1.0000, 1.0000, 1.0000, 1.0000, 1.0000, 1.0000, 1.0000,\n",
      "        1.0000, 1.0000, 1.0000, 1.0000, 1.0000, 1.0000, 1.0000, 1.0000, 1.0000,\n",
      "        1.0000, 1.0000, 1.0000, 1.0000, 1.0000, 1.0000, 1.0000, 1.0000, 1.0000,\n",
      "        1.0000, 1.0000, 1.0000, 1.0000, 1.0000, 1.0000, 1.0000, 1.0000, 1.0000,\n",
      "        1.0000])\n"
     ]
    }
   ],
   "source": [
    "def softmax(x):\n",
    "    ## TODO: Implement the softmax function here\n",
    "    a = torch.exp(x)\n",
    "    print(a.shape)\n",
    "    b = torch.sum(torch.exp(x),dim=1)#.view(-1,1)\n",
    "    print(b.shape)\n",
    "    b = b.view(-1,1) #r the rishape is required otherwise it's not possible to properly do the divisione!\n",
    "    print(b.shape)\n",
    "    out = a/b\n",
    "    print(out.shape)\n",
    "    #short version\n",
    "    #torch.exp(x)/torch.sum(torch.exp(x),dim=1).view(-1,1)\n",
    "    return out\n",
    "    \n",
    "    \n",
    "# Here, out should be the output of the network in the previous excercise with shape (64,10)\n",
    "probabilities = softmax(out)\n",
    "\n",
    "# Does it have the right shape? Should be (64, 10)\n",
    "print(probabilities.shape)\n",
    "# Does it sum to 1?\n",
    "print(probabilities.sum(dim=1))"
   ]
  },
  {
   "cell_type": "markdown",
   "metadata": {},
   "source": [
    "## Building networks with PyTorch\n",
    "\n",
    "PyTorch provides a module `nn` that makes building networks much simpler. Here I'll show you how to build the same one as above with 784 inputs, 256 hidden units, 10 output units and a softmax output."
   ]
  },
  {
   "cell_type": "code",
   "execution_count": 30,
   "metadata": {
    "collapsed": true
   },
   "outputs": [],
   "source": [
    "from torch import nn"
   ]
  },
  {
   "cell_type": "code",
   "execution_count": 31,
   "metadata": {
    "collapsed": true
   },
   "outputs": [],
   "source": [
    "class Network(nn.Module): #this is a subclass of nn.Module\n",
    "    def __init__(self):\n",
    "        super().__init__() #super constructor\n",
    "        \n",
    "        # Inputs to hidden layer linear transformation\n",
    "        # nn.Linear automatically compute the linear transformation\n",
    "        self.hidden = nn.Linear(784, 256)\n",
    "        # Output layer, 10 units - one for each digit\n",
    "        self.output = nn.Linear(256, 10)\n",
    "        \n",
    "        # Define sigmoid activation and softmax output \n",
    "        self.sigmoid = nn.Sigmoid()\n",
    "        self.softmax = nn.Softmax(dim=1)\n",
    "        \n",
    "    #this method defines the behavior of our application\n",
    "    def forward(self, x):\n",
    "        # Pass the input tensor through each of our operations\n",
    "        x = self.hidden(x)\n",
    "        x = self.sigmoid(x)\n",
    "        x = self.output(x)\n",
    "        x = self.softmax(x)\n",
    "        \n",
    "        return x"
   ]
  },
  {
   "cell_type": "markdown",
   "metadata": {},
   "source": [
    "Let's go through this bit by bit.\n",
    "\n",
    "```python\n",
    "class Network(nn.Module):\n",
    "```\n",
    "\n",
    "Here we're inheriting from `nn.Module`. Combined with `super().__init__()` this creates a class that tracks the architecture and provides a lot of useful methods and attributes. It is mandatory to inherit from `nn.Module` when you're creating a class for your network. The name of the class itself can be anything.\n",
    "\n",
    "```python\n",
    "self.hidden = nn.Linear(784, 256)\n",
    "```\n",
    "\n",
    "This line creates a module for a linear transformation, $x\\mathbf{W} + b$, with 784 inputs and 256 outputs and assigns it to `self.hidden`. The module automatically creates the weight and bias tensors which we'll use in the `forward` method. You can access the weight and bias tensors once the network (`net`) is created with `net.hidden.weight` and `net.hidden.bias`.\n",
    "\n",
    "```python\n",
    "self.output = nn.Linear(256, 10)\n",
    "```\n",
    "\n",
    "Similarly, this creates another linear transformation with 256 inputs and 10 outputs.\n",
    "\n",
    "```python\n",
    "self.sigmoid = nn.Sigmoid()\n",
    "self.softmax = nn.Softmax(dim=1)\n",
    "```\n",
    "\n",
    "Here I defined operations for the sigmoid activation and softmax output. Setting `dim=1` in `nn.Softmax(dim=1)` calculates softmax across the columns.\n",
    "\n",
    "```python\n",
    "def forward(self, x):\n",
    "```\n",
    "\n",
    "PyTorch networks created with `nn.Module` must have a `forward` method defined. It takes in a tensor `x` and passes it through the operations you defined in the `__init__` method.\n",
    "\n",
    "```python\n",
    "x = self.hidden(x)\n",
    "x = self.sigmoid(x)\n",
    "x = self.output(x)\n",
    "x = self.softmax(x)\n",
    "```\n",
    "\n",
    "Here the input tensor `x` is passed through each operation a reassigned to `x`. We can see that the input tensor goes through the hidden layer, then a sigmoid function, then the output layer, and finally the softmax function. It doesn't matter what you name the variables here, as long as the inputs and outputs of the operations match the network architecture you want to build. The order in which you define things in the `__init__` method doesn't matter, but you'll need to sequence the operations correctly in the `forward` method.\n",
    "\n",
    "Now we can create a `Network` object."
   ]
  },
  {
   "cell_type": "code",
   "execution_count": 32,
   "metadata": {
    "collapsed": true
   },
   "outputs": [
    {
     "data": {
      "text/plain": [
       "Network(\n",
       "  (hidden): Linear(in_features=784, out_features=256, bias=True)\n",
       "  (output): Linear(in_features=256, out_features=10, bias=True)\n",
       "  (sigmoid): Sigmoid()\n",
       "  (softmax): Softmax()\n",
       ")"
      ]
     },
     "execution_count": 32,
     "metadata": {},
     "output_type": "execute_result"
    }
   ],
   "source": [
    "# Create the network and look at it's text representation\n",
    "model = Network()\n",
    "model"
   ]
  },
  {
   "cell_type": "markdown",
   "metadata": {},
   "source": [
    "You can define the network somewhat more concisely and clearly using the `torch.nn.functional` module. This is the most common way you'll see networks defined as many operations are simple element-wise functions. We normally import this module as `F`, `import torch.nn.functional as F`."
   ]
  },
  {
   "cell_type": "code",
   "execution_count": 34,
   "metadata": {
    "collapsed": true
   },
   "outputs": [],
   "source": [
    "import torch.nn.functional as F # it's a convention of pytorch\n",
    "\n",
    "class Network(nn.Module):\n",
    "    def __init__(self):\n",
    "        super().__init__()\n",
    "        # Inputs to hidden layer linear transformation\n",
    "        self.hidden = nn.Linear(784, 256)\n",
    "        # Output layer, 10 units - one for each digit\n",
    "        self.output = nn.Linear(256, 10)\n",
    "    \n",
    "    # we cleared the function by reuising existing methods provided by F module\n",
    "    def forward(self, x):\n",
    "        # Hidden layer with sigmoid activation\n",
    "        x = F.sigmoid(self.hidden(x))\n",
    "        # Output layer with softmax activation\n",
    "        x = F.softmax(self.output(x), dim=1)\n",
    "        \n",
    "        return x"
   ]
  },
  {
   "cell_type": "markdown",
   "metadata": {},
   "source": [
    "### Activation functions\n",
    "\n",
    "So far we've only been looking at the softmax activation, but in general any function can be used as an activation function. The only requirement is that for a network to approximate a non-linear function, the activation functions must be non-linear. Here are a few more examples of common activation functions: Tanh (hyperbolic tangent), and ReLU (rectified linear unit).\n",
    "\n",
    "<img src=\"assets/activation.png\" width=700px>\n",
    "\n",
    "In practice, the ReLU function is used almost exclusively as the activation function for hidden layers."
   ]
  },
  {
   "cell_type": "markdown",
   "metadata": {},
   "source": [
    "### Your Turn to Build a Network\n",
    "\n",
    "<img src=\"assets/mlp_mnist.png\" width=600px>\n",
    "\n",
    "> **Exercise:** Create a network with 784 input units, a hidden layer with 128 units and a ReLU activation, then a hidden layer with 64 units and a ReLU activation, and finally an output layer with a softmax activation as shown above. You can use a ReLU activation with the `nn.ReLU` module or `F.relu` function."
   ]
  },
  {
   "cell_type": "code",
   "execution_count": 59,
   "metadata": {
    "collapsed": true,
    "scrolled": true
   },
   "outputs": [
    {
     "data": {
      "text/plain": [
       "MultiLayerNetwork(\n",
       "  (fc1): Linear(in_features=784, out_features=128, bias=True)\n",
       "  (fc2): Linear(in_features=128, out_features=64, bias=True)\n",
       "  (fc3): Linear(in_features=64, out_features=10, bias=True)\n",
       ")"
      ]
     },
     "execution_count": 59,
     "metadata": {},
     "output_type": "execute_result"
    }
   ],
   "source": [
    "## Your solution here\n",
    "class MultiLayerNetwork(nn.Module):\n",
    "    def __init__(self):\n",
    "        super().__init__()\n",
    "        # Inputs to hidden layer 1 linear transformation.\n",
    "        # nn.Linear will automatically define weigths and bias for the hiddend layer.\n",
    "        self.fc1 = nn.Linear(784, 128)\n",
    "        # Inputs to hidden layer 2 linear transformation\n",
    "        self.fc2 = nn.Linear(128, 64)\n",
    "        # Output layer, 10 units - one for each digit\n",
    "        self.fc3 = nn.Linear(64, 10)\n",
    "\n",
    "    def forward(self, x):\n",
    "        # Hidden layer 1 with ReLU activation\n",
    "        x = F.relu(self.fc1(x))\n",
    "        # Hidden layer 2 with ReLU activation\n",
    "        x = F.relu(self.fc2(x))\n",
    "        # Output layer with softmax activation\n",
    "        x = F.softmax(self.fc3(x), dim=1)\n",
    "        return x\n",
    "\n",
    "model = MultiLayerNetwork()\n",
    "model"
   ]
  },
  {
   "cell_type": "markdown",
   "metadata": {},
   "source": [
    "### Initializing weights and biases\n",
    "\n",
    "The weights and such are automatically initialized for you, but it's possible to customize how they are initialized. The weights and biases are tensors attached to the layer you defined, you can get them with `model.fc1.weight` for instance."
   ]
  },
  {
   "cell_type": "code",
   "execution_count": 62,
   "metadata": {
    "collapsed": true
   },
   "outputs": [
    {
     "name": "stdout",
     "output_type": "stream",
     "text": [
      "Parameter containing:\n",
      "tensor([[-0.0253, -0.0305, -0.0120,  ...,  0.0332,  0.0265, -0.0220],\n",
      "        [ 0.0165, -0.0198, -0.0241,  ...,  0.0206,  0.0284,  0.0262],\n",
      "        [ 0.0280,  0.0282, -0.0297,  ..., -0.0192,  0.0291,  0.0079],\n",
      "        ...,\n",
      "        [-0.0133, -0.0355, -0.0166,  ...,  0.0235, -0.0340, -0.0101],\n",
      "        [ 0.0233,  0.0334,  0.0244,  ...,  0.0286, -0.0047,  0.0109],\n",
      "        [-0.0308,  0.0295,  0.0094,  ...,  0.0081, -0.0330,  0.0294]],\n",
      "       requires_grad=True)\n",
      "Parameter containing:\n",
      "tensor([ 0.0106,  0.0002,  0.0243,  0.0264, -0.0303, -0.0160,  0.0270,  0.0221,\n",
      "        -0.0097, -0.0187, -0.0243, -0.0087,  0.0225, -0.0179,  0.0041,  0.0188,\n",
      "         0.0231, -0.0231, -0.0331, -0.0156,  0.0313, -0.0288, -0.0203, -0.0136,\n",
      "         0.0271,  0.0276,  0.0020,  0.0102, -0.0213,  0.0223,  0.0093, -0.0268,\n",
      "        -0.0213,  0.0122,  0.0021, -0.0294,  0.0347,  0.0197,  0.0052, -0.0297,\n",
      "        -0.0160, -0.0063,  0.0243, -0.0209,  0.0337,  0.0111, -0.0325, -0.0263,\n",
      "        -0.0152,  0.0159,  0.0069, -0.0203, -0.0202, -0.0280,  0.0212, -0.0108,\n",
      "        -0.0178,  0.0119,  0.0334, -0.0061, -0.0201, -0.0118, -0.0001,  0.0356,\n",
      "         0.0076, -0.0033, -0.0292, -0.0194,  0.0128,  0.0056, -0.0070, -0.0072,\n",
      "         0.0225, -0.0182, -0.0054,  0.0171,  0.0211, -0.0161, -0.0012,  0.0212,\n",
      "        -0.0107, -0.0261,  0.0084, -0.0150,  0.0329, -0.0135, -0.0094,  0.0028,\n",
      "        -0.0239, -0.0014, -0.0233,  0.0068,  0.0204,  0.0107,  0.0020,  0.0070,\n",
      "         0.0108, -0.0315,  0.0202, -0.0072, -0.0137,  0.0275, -0.0290,  0.0135,\n",
      "         0.0186, -0.0156, -0.0032, -0.0268, -0.0346, -0.0154,  0.0081, -0.0330,\n",
      "        -0.0187, -0.0299,  0.0204,  0.0230,  0.0233,  0.0028, -0.0014,  0.0150,\n",
      "        -0.0028,  0.0345, -0.0325,  0.0149,  0.0274, -0.0058,  0.0074,  0.0252],\n",
      "       requires_grad=True)\n"
     ]
    }
   ],
   "source": [
    "# simple approach to recover the weight and the bias for a hidden layer.\n",
    "print(model.fc1.weight)\n",
    "print(model.fc1.bias)"
   ]
  },
  {
   "cell_type": "markdown",
   "metadata": {},
   "source": [
    "For custom initialization, we want to modify these tensors in place. These are actually autograd *Variables*, so we need to get back the actual tensors with `model.fc1.weight.data`. Once we have the tensors, we can fill them with zeros (for biases) or random normal values."
   ]
  },
  {
   "cell_type": "code",
   "execution_count": 63,
   "metadata": {
    "collapsed": true
   },
   "outputs": [
    {
     "data": {
      "text/plain": [
       "tensor([0., 0., 0., 0., 0., 0., 0., 0., 0., 0., 0., 0., 0., 0., 0., 0., 0., 0.,\n",
       "        0., 0., 0., 0., 0., 0., 0., 0., 0., 0., 0., 0., 0., 0., 0., 0., 0., 0.,\n",
       "        0., 0., 0., 0., 0., 0., 0., 0., 0., 0., 0., 0., 0., 0., 0., 0., 0., 0.,\n",
       "        0., 0., 0., 0., 0., 0., 0., 0., 0., 0., 0., 0., 0., 0., 0., 0., 0., 0.,\n",
       "        0., 0., 0., 0., 0., 0., 0., 0., 0., 0., 0., 0., 0., 0., 0., 0., 0., 0.,\n",
       "        0., 0., 0., 0., 0., 0., 0., 0., 0., 0., 0., 0., 0., 0., 0., 0., 0., 0.,\n",
       "        0., 0., 0., 0., 0., 0., 0., 0., 0., 0., 0., 0., 0., 0., 0., 0., 0., 0.,\n",
       "        0., 0.])"
      ]
     },
     "execution_count": 63,
     "metadata": {},
     "output_type": "execute_result"
    }
   ],
   "source": [
    "# Set biases to all zeros\n",
    "model.fc1.bias.data.fill_(0)"
   ]
  },
  {
   "cell_type": "code",
   "execution_count": 64,
   "metadata": {
    "collapsed": true
   },
   "outputs": [
    {
     "data": {
      "text/plain": [
       "tensor([[-0.0073,  0.0043, -0.0178,  ..., -0.0083, -0.0004, -0.0029],\n",
       "        [-0.0121,  0.0010,  0.0056,  ..., -0.0165,  0.0073,  0.0036],\n",
       "        [-0.0050, -0.0044, -0.0035,  ..., -0.0227, -0.0200, -0.0043],\n",
       "        ...,\n",
       "        [-0.0063, -0.0121, -0.0047,  ...,  0.0032,  0.0141, -0.0035],\n",
       "        [-0.0122, -0.0058,  0.0066,  ...,  0.0040, -0.0097, -0.0179],\n",
       "        [-0.0104, -0.0198, -0.0118,  ..., -0.0179,  0.0072, -0.0080]])"
      ]
     },
     "execution_count": 64,
     "metadata": {},
     "output_type": "execute_result"
    }
   ],
   "source": [
    "# sample from random normal with standard dev = 0.01\n",
    "model.fc1.weight.data.normal_(std=0.01)"
   ]
  },
  {
   "cell_type": "markdown",
   "metadata": {},
   "source": [
    "### Forward pass\n",
    "\n",
    "Now that we have a network, let's see what happens when we pass in an image."
   ]
  },
  {
   "cell_type": "code",
   "execution_count": 58,
   "metadata": {
    "collapsed": true
   },
   "outputs": [
    {
     "data": {
      "image/png": "[encoded data removed]",
      "text/plain": [
       "<Figure size 432x648 with 2 Axes>"
      ]
     },
     "metadata": {
      "image/png": {
       "height": 226,
       "width": 423
      },
      "needs_background": "light"
     },
     "output_type": "display_data"
    }
   ],
   "source": [
    "# Grab some data \n",
    "dataiter = iter(trainloader)\n",
    "images, labels = dataiter.next()\n",
    "\n",
    "# Resize images into a 1D vector, new shape is (batch size, color channels, image pixels) \n",
    "images.resize_(64, 1, 784)\n",
    "# or images.resize_(images.shape[0], 1, 784) to automatically get batch size\n",
    "\n",
    "# Forward pass through the network\n",
    "img_idx = 0\n",
    "ps = model.forward(images[img_idx,:])\n",
    "\n",
    "img = images[img_idx]\n",
    "helper.view_classify(img.view(1, 28, 28), ps)"
   ]
  },
  {
   "cell_type": "markdown",
   "metadata": {},
   "source": [
    "As you can see above, our network has basically no idea what this digit is. It's because we haven't trained it yet, all the weights are random!\n",
    "\n",
    "### Using `nn.Sequential`\n",
    "\n",
    "PyTorch provides a convenient way to build networks like this where a tensor is passed sequentially through operations, `nn.Sequential` ([documentation](https://pytorch.org/docs/master/nn.html#torch.nn.Sequential)). Using this to build the equivalent network:"
   ]
  },
  {
   "cell_type": "code",
   "execution_count": 65,
   "metadata": {
    "collapsed": true
   },
   "outputs": [
    {
     "name": "stdout",
     "output_type": "stream",
     "text": [
      "Sequential(\n",
      "  (0): Linear(in_features=784, out_features=128, bias=True)\n",
      "  (1): ReLU()\n",
      "  (2): Linear(in_features=128, out_features=64, bias=True)\n",
      "  (3): ReLU()\n",
      "  (4): Linear(in_features=64, out_features=10, bias=True)\n",
      "  (5): Softmax()\n",
      ")\n"
     ]
    },
    {
     "data": {
      "image/png": "[encoded data removed]",
      "text/plain": [
       "<Figure size 432x648 with 2 Axes>"
      ]
     },
     "metadata": {
      "image/png": {
       "height": 226,
       "width": 423
      },
      "needs_background": "light"
     },
     "output_type": "display_data"
    }
   ],
   "source": [
    "# Hyperparameters for our network\n",
    "input_size = 784\n",
    "hidden_sizes = [128, 64]\n",
    "output_size = 10\n",
    "\n",
    "# Build a feed-forward network\n",
    "model = nn.Sequential(nn.Linear(input_size, hidden_sizes[0]),\n",
    "                      nn.ReLU(),\n",
    "                      nn.Linear(hidden_sizes[0], hidden_sizes[1]),\n",
    "                      nn.ReLU(),\n",
    "                      nn.Linear(hidden_sizes[1], output_size),\n",
    "                      nn.Softmax(dim=1))\n",
    "print(model)\n",
    "\n",
    "# Forward pass through the network and display output\n",
    "images, labels = next(iter(trainloader))\n",
    "images.resize_(images.shape[0], 1, 784)\n",
    "ps = model.forward(images[0,:])\n",
    "helper.view_classify(images[0].view(1, 28, 28), ps)"
   ]
  },
  {
   "cell_type": "markdown",
   "metadata": {},
   "source": [
    "Here our model is the same as before: 784 input units, a hidden layer with 128 units, ReLU activation, 64 unit hidden layer, another ReLU, then the output layer with 10 units, and the softmax output.\n",
    "\n",
    "The operations are availble by passing in the appropriate index. For example, if you want to get first Linear operation and look at the weights, you'd use `model[0]`."
   ]
  },
  {
   "cell_type": "code",
   "execution_count": 66,
   "metadata": {
    "collapsed": true
   },
   "outputs": [
    {
     "name": "stdout",
     "output_type": "stream",
     "text": [
      "Linear(in_features=784, out_features=128, bias=True)\n"
     ]
    },
    {
     "data": {
      "text/plain": [
       "Parameter containing:\n",
       "tensor([[-0.0015, -0.0221,  0.0219,  ..., -0.0246,  0.0278, -0.0275],\n",
       "        [ 0.0094,  0.0140, -0.0148,  ...,  0.0045, -0.0168, -0.0211],\n",
       "        [ 0.0295,  0.0341, -0.0043,  ..., -0.0137,  0.0325,  0.0167],\n",
       "        ...,\n",
       "        [ 0.0111,  0.0233,  0.0342,  ..., -0.0165,  0.0198, -0.0026],\n",
       "        [ 0.0317,  0.0182, -0.0284,  ...,  0.0217, -0.0212,  0.0336],\n",
       "        [-0.0063,  0.0270,  0.0327,  ..., -0.0227,  0.0008, -0.0340]],\n",
       "       requires_grad=True)"
      ]
     },
     "execution_count": 66,
     "metadata": {},
     "output_type": "execute_result"
    }
   ],
   "source": [
    "print(model[0])\n",
    "model[0].weight"
   ]
  },
  {
   "cell_type": "markdown",
   "metadata": {},
   "source": [
    "You can also pass in an `OrderedDict` to name the individual layers and operations, instead of using incremental integers. Note that dictionary keys must be unique, so _each operation must have a different name_."
   ]
  },
  {
   "cell_type": "code",
   "execution_count": 67,
   "metadata": {
    "collapsed": true
   },
   "outputs": [
    {
     "data": {
      "text/plain": [
       "Sequential(\n",
       "  (fc1): Linear(in_features=784, out_features=128, bias=True)\n",
       "  (relu1): ReLU()\n",
       "  (fc2): Linear(in_features=128, out_features=64, bias=True)\n",
       "  (relu2): ReLU()\n",
       "  (output): Linear(in_features=64, out_features=10, bias=True)\n",
       "  (softmax): Softmax()\n",
       ")"
      ]
     },
     "execution_count": 67,
     "metadata": {},
     "output_type": "execute_result"
    }
   ],
   "source": [
    "from collections import OrderedDict\n",
    "model = nn.Sequential(OrderedDict([\n",
    "                      ('fc1', nn.Linear(input_size, hidden_sizes[0])),\n",
    "                      ('relu1', nn.ReLU()),\n",
    "                      ('fc2', nn.Linear(hidden_sizes[0], hidden_sizes[1])),\n",
    "                      ('relu2', nn.ReLU()),\n",
    "                      ('output', nn.Linear(hidden_sizes[1], output_size)),\n",
    "                      ('softmax', nn.Softmax(dim=1))]))\n",
    "model"
   ]
  },
  {
   "cell_type": "markdown",
   "metadata": {},
   "source": [
    "Now you can access layers either by integer or the name"
   ]
  },
  {
   "cell_type": "code",
   "execution_count": 68,
   "metadata": {
    "collapsed": true
   },
   "outputs": [
    {
     "name": "stdout",
     "output_type": "stream",
     "text": [
      "Linear(in_features=784, out_features=128, bias=True)\n",
      "Linear(in_features=784, out_features=128, bias=True)\n"
     ]
    }
   ],
   "source": [
    "print(model[0])\n",
    "print(model.fc1)"
   ]
  },
  {
   "cell_type": "markdown",
   "metadata": {},
   "source": [
    "In the next notebook, we'll see how we can train a neural network to accuractly predict the numbers appearing in the MNIST images."
   ]
  }
 ],
 "metadata": {
  "kernelspec": {
   "display_name": "Python 3",
   "language": "python",
   "name": "python3"
  },
  "language_info": {
   "codemirror_mode": {
    "name": "ipython",
    "version": 3
   },
   "file_extension": ".py",
   "mimetype": "text/x-python",
   "name": "python",
   "nbconvert_exporter": "python",
   "pygments_lexer": "ipython3",
   "version": "3.6.6"
  }
 },
 "nbformat": 4,
 "nbformat_minor": 2
}
